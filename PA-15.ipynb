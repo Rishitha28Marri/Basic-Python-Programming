{
 "cells": [
  {
   "cell_type": "code",
   "execution_count": 27,
   "id": "d4103e40-8acf-42c5-952f-37c9dfec0828",
   "metadata": {},
   "outputs": [
    {
     "name": "stdin",
     "output_type": "stream",
     "text": [
      "Enter a number:  100\n"
     ]
    },
    {
     "name": "stdout",
     "output_type": "stream",
     "text": [
      "Numbers which are divisible by 5 and 7 between 0 and 100 are 0,35,70\n"
     ]
    }
   ],
   "source": [
    "\"\"\"Question 1:\n",
    "Please write a program using generator to print the numbers which can be divisible by 5 and\n",
    "7 between 0 and n in comma separated form while n is input by console.\n",
    "Example:\n",
    "If the following n is given as input to the program:\n",
    "100\n",
    "Then, the output of the program should be:\n",
    "0,35,70 \"\"\"\n",
    "\n",
    "def div_by_5_and_7(num):\n",
    "    for i in range(0,num+1):\n",
    "        if i%5==0 and i%7==0:\n",
    "            yield str(i)\n",
    "num=int(input(\"Enter a number: \"))\n",
    "\n",
    "result=\",\".join(div_by_5_and_7(num))\n",
    "print(f\"Numbers which are divisible by 5 and 7 between 0 and {num} are {result}\")"
   ]
  },
  {
   "cell_type": "code",
   "execution_count": 21,
   "id": "b1a6d38c-53cd-4711-878b-05a5cd280f02",
   "metadata": {},
   "outputs": [
    {
     "name": "stdin",
     "output_type": "stream",
     "text": [
      "Enter a number:  10\n"
     ]
    },
    {
     "name": "stdout",
     "output_type": "stream",
     "text": [
      "2,4,6,8,10,"
     ]
    }
   ],
   "source": [
    "\"\"\"Question 2:\n",
    "Please write a program using generator to print the even numbers between 0 and n in comma\n",
    "separated form while n is input by console.\n",
    "Example:\n",
    "If the following n is given as input to the program:\n",
    "10\n",
    "Then, the output of the program should be:\n",
    "0,2,4,6,8,10\"\"\"\n",
    "\n",
    "def even_number(num):\n",
    "    for i in range(1,num+1):\n",
    "        if i%2==0:\n",
    "            yield i\n",
    "num=int(input(\"Enter a number: \"))\n",
    "for i in even_number(num):\n",
    "    result = str(i)\n",
    "    print(result,end=',')"
   ]
  },
  {
   "cell_type": "code",
   "execution_count": 11,
   "id": "9c83cf1e-7666-4e95-aad6-a3b10e4a0c08",
   "metadata": {},
   "outputs": [
    {
     "name": "stdin",
     "output_type": "stream",
     "text": [
      "Enter a number:  7\n"
     ]
    },
    {
     "name": "stdout",
     "output_type": "stream",
     "text": [
      "Fibonacci Sequence is:\n"
     ]
    },
    {
     "data": {
      "text/plain": [
       "[0, 1, 1, 2, 3, 5, 8, 13]"
      ]
     },
     "execution_count": 11,
     "metadata": {},
     "output_type": "execute_result"
    }
   ],
   "source": [
    "\"\"\"Question 3:\n",
    "The Fibonacci Sequence is computed based on the following formula:\n",
    "f(n)=0 if n=0\n",
    "f(n)=1 if n=1\n",
    "f(n)=f(n-1)+f(n-2) if n&gt;1\n",
    "Please write a program using list comprehension to print the Fibonacci Sequence in comma\n",
    "separated form with a given n input by console.\n",
    "Example:\n",
    "If the following n is given as input to the program:\n",
    "7\n",
    "\n",
    "Then, the output of the program should be:\n",
    "0,1,1,2,3,5,8,13\"\"\"\n",
    "\n",
    "def Fibo_seq(num):\n",
    "    f = [0,1]\n",
    "    for i in range(2,num+1):\n",
    "        f.append(f[-1]+f[-2])\n",
    "    return f\n",
    "num=int(input(\"Enter a number: \"))\n",
    "print(\"Fibonacci Sequence is:\")\n",
    "Fibo_seq(num)\n"
   ]
  },
  {
   "cell_type": "code",
   "execution_count": 4,
   "id": "63d2bb62-946f-4d77-a65e-5397bce7b0e1",
   "metadata": {},
   "outputs": [
    {
     "name": "stdin",
     "output_type": "stream",
     "text": [
      "Enter a email:  rishitha@gmail.com\n"
     ]
    },
    {
     "name": "stdout",
     "output_type": "stream",
     "text": [
      "The username is rishitha\n"
     ]
    }
   ],
   "source": [
    "\"\"\"Question 4:\n",
    "Assuming that we have some email addresses in the &quot;username@companyname.com&quot; format,\n",
    "please write program to print the user name of a given email address. Both user names and\n",
    "company names are composed of letters only.\n",
    "Example:\n",
    "If the following email address is given as input to the program:\n",
    "john@google.com\n",
    "Then, the output of the program should be:\n",
    "john\"\"\"\n",
    "\n",
    "email = input(\"Enter a email: \")\n",
    "username,domain = email.split('@')\n",
    "print(\"The username is\",username)"
   ]
  },
  {
   "cell_type": "code",
   "execution_count": 28,
   "id": "0fa9fc8e-c455-4937-9f80-4614fc19acb0",
   "metadata": {},
   "outputs": [],
   "source": [
    "\"\"\"Question 5:\n",
    "Define a class named Shape and its subclass Square. The Square class has an init function\n",
    "which takes a length as argument. Both classes have a area function which can print the area\n",
    "of the shape where Shape&#39;s area is 0 by default.\"\"\"\n",
    "class Shape:\n",
    "    def __init__(self):\n",
    "        self.area = 0\n",
    "    def get_area(self):\n",
    "        return self.area\n",
    "\n",
    "class Square(Shape):\n",
    "    def __init__(self, length):\n",
    "        super().__init__()\n",
    "        self.length = length\n",
    "    \n",
    "    def get_area(self):\n",
    "        return self.length * self.length\n"
   ]
  },
  {
   "cell_type": "code",
   "execution_count": 30,
   "id": "566c910b-437d-4d81-99ad-251c4f554ce3",
   "metadata": {},
   "outputs": [
    {
     "name": "stdout",
     "output_type": "stream",
     "text": [
      "25\n"
     ]
    }
   ],
   "source": [
    "square = Square(5)\n",
    "print(square.get_area()) "
   ]
  },
  {
   "cell_type": "code",
   "execution_count": null,
   "id": "ae593343-6185-4351-9bfb-54f232797330",
   "metadata": {},
   "outputs": [],
   "source": []
  }
 ],
 "metadata": {
  "kernelspec": {
   "display_name": "Python 3 (ipykernel)",
   "language": "python",
   "name": "python3"
  },
  "language_info": {
   "codemirror_mode": {
    "name": "ipython",
    "version": 3
   },
   "file_extension": ".py",
   "mimetype": "text/x-python",
   "name": "python",
   "nbconvert_exporter": "python",
   "pygments_lexer": "ipython3",
   "version": "3.10.6"
  }
 },
 "nbformat": 4,
 "nbformat_minor": 5
}
