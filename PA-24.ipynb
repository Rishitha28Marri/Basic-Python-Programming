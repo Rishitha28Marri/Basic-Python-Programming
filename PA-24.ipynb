{
 "cells": [
  {
   "cell_type": "code",
   "execution_count": 5,
   "id": "bea27d76-4df0-4223-9b26-19b5dea5075f",
   "metadata": {},
   "outputs": [
    {
     "name": "stdout",
     "output_type": "stream",
     "text": [
      "[1, 2, 3, 40]\n",
      "[1, 2, 3]\n",
      "[1, 2, 3, 40, 5, 6, 7, 80, 9, 10, 11, 120, 13, 14, 15, 160, 17, 18, 19, 200, 21, 22, 23, 240, 25]\n"
     ]
    }
   ],
   "source": [
    "\"\"\"Question1\n",
    "Create a function that takes an integer and returns a list from 1 to the given number, where:\n",
    "1. If the number can be divided evenly by 4, amplify it by 10 (i.e. return 10 times the\n",
    "number).\n",
    "2. If the number cannot be divided evenly by 4, simply return the number.\n",
    "Examples\n",
    "amplify(4) ➞ [1, 2, 3, 40]\n",
    "amplify(3) ➞ [1, 2, 3]\n",
    "amplify(25) ➞ [1, 2, 3, 40, 5, 6, 7, 80, 9, 10, 11, 120, 13, 14, 15, 160,\n",
    "17, 18, 19, 200, 21, 22, 23, 240, 25]\n",
    "Notes\n",
    " The given integer will always be equal to or greater than 1.\n",
    " Include the number (see example above).\n",
    " To perform this problem with its intended purpose, try doing it with list\n",
    "comprehensions. If that&#39;s too difficult, just solve the challenge any way you can. \"\"\"\n",
    "\n",
    "def amplify(num):\n",
    "    lst=[]\n",
    "    for i in range(1,num+1):\n",
    "        if i%4 == 0:\n",
    "            lst.append(i*10)\n",
    "        else:\n",
    "            lst.append(i)\n",
    "    return lst\n",
    "\n",
    "print(amplify(4))\n",
    "print(amplify(3))\n",
    "print(amplify(25))\n",
    "        "
   ]
  },
  {
   "cell_type": "code",
   "execution_count": 7,
   "id": "c4b8f8c4-5bc2-4243-834b-d3a250470bf3",
   "metadata": {},
   "outputs": [
    {
     "name": "stdout",
     "output_type": "stream",
     "text": [
      "7\n",
      "0.77\n",
      "0\n"
     ]
    }
   ],
   "source": [
    "\"\"\"Question2\n",
    "Create a function that takes a list of numbers and return the number that&#39;s unique.\n",
    "Examples\n",
    "unique([3, 3, 3, 7, 3, 3]) ➞ 7\n",
    "unique([0, 0, 0.77, 0, 0]) ➞ 0.77\n",
    "unique([0, 1, 1, 1, 1, 1, 1, 1]) ➞ 0\n",
    "Notes\n",
    "Test cases will always have exactly one unique number while all others are the same.\n",
    " \"\"\"\n",
    "\n",
    "def unique(lst):\n",
    "    for num in lst:\n",
    "        if lst.count(num)==1:\n",
    "            return num\n",
    "\n",
    "print(unique([3, 3, 3, 7, 3, 3]))\n",
    "print(unique([0, 0, 0.77, 0, 0]))\n",
    "print(unique([0, 1, 1, 1, 1, 1, 1, 1]))  \n",
    "    "
   ]
  },
  {
   "cell_type": "code",
   "execution_count": 9,
   "id": "3d057630-68e3-41bc-b78e-8e4ef084e4b4",
   "metadata": {},
   "outputs": [
    {
     "name": "stdout",
     "output_type": "stream",
     "text": [
      "381\n",
      "70\n",
      "62\n",
      "28\n"
     ]
    }
   ],
   "source": [
    "\"\"\"Question3\n",
    "Your task is to create a Circle constructor that creates a circle with a radius provided by an\n",
    "argument. The circles constructed must have two getters getArea() (PIr^2) and\n",
    "getPerimeter() (2PI*r) which give both respective areas and perimeter (circumference).\n",
    "\n",
    "For help with this class, I have provided you with a Rectangle constructor which you can use\n",
    "as a base example.\n",
    "Examples\n",
    "circy = Circle(11)\n",
    "circy.getArea()\n",
    "# Should return 380.132711084365\n",
    "circy = Circle(4.44)\n",
    "circy.getPerimeter()\n",
    "# Should return 27.897342763877365\n",
    "Notes\n",
    "Round results up to the nearest integer. \"\"\"\n",
    "\n",
    "import math\n",
    "\n",
    "class Circle:\n",
    "    def __init__(self, radius):\n",
    "        self.radius = radius\n",
    "    \n",
    "    def getArea(self):\n",
    "        return math.ceil(math.pi * self.radius ** 2)\n",
    "    \n",
    "    def getPerimeter(self):\n",
    "        return math.ceil(2 * math.pi * self.radius)\n",
    "\n",
    "circle = Circle(11)\n",
    "print(circle.getArea())\n",
    "print(circle.getPerimeter())\n",
    "circle = Circle(4.44)\n",
    "print(circle.getArea())\n",
    "print(circle.getPerimeter())"
   ]
  },
  {
   "cell_type": "code",
   "execution_count": 13,
   "id": "0fa13de3-546e-4edf-ae4f-f7ed703202d3",
   "metadata": {},
   "outputs": [
    {
     "name": "stdout",
     "output_type": "stream",
     "text": [
      "['Apple', 'Google', 'Microsoft']\n",
      "['Raphael', 'Leonardo', 'Donatello', 'Michelangelo']\n",
      "['Jung', 'Turing', 'Einstein']\n"
     ]
    }
   ],
   "source": [
    "\"\"\"Question4\n",
    "Create a function that takes a list of strings and return a list, sorted from shortest to longest.\n",
    "Examples\n",
    "sort_by_length([&quot;Google&quot;, &quot;Apple&quot;, &quot;Microsoft&quot;])\n",
    "➞ [&quot;Apple&quot;, &quot;Google&quot;, &quot;Microsoft&quot;]\n",
    "sort_by_length([&quot;Leonardo&quot;, &quot;Michelangelo&quot;, &quot;Raphael&quot;, &quot;Donatello&quot;])\n",
    "➞ [&quot;Raphael&quot;, &quot;Leonardo&quot;, &quot;Donatello&quot;, &quot;Michelangelo&quot;]\n",
    "sort_by_length([&quot;Turing&quot;, &quot;Einstein&quot;, &quot;Jung&quot;])\n",
    "➞ [&quot;Jung&quot;, &quot;Turing&quot;, &quot;Einstein&quot;]\n",
    "Notes\n",
    "All test cases contain lists with strings of different lengths, so you won&#39;t have to deal with\n",
    "multiple strings of the same length. \"\"\"\n",
    "\n",
    "def sort_by_length(lst):\n",
    "    return sorted(lst, key=len)\n",
    "\n",
    "print(sort_by_length(['Google','Apple','Microsoft']))\n",
    "print(sort_by_length([\"Leonardo\", \"Michelangelo\", \"Raphael\", \"Donatello\"]))\n",
    "print(sort_by_length([\"Turing\", \"Einstein\", \"Jung\"]))"
   ]
  },
  {
   "cell_type": "code",
   "execution_count": 14,
   "id": "bc1026f1-2b9d-41ae-a730-626730266ea5",
   "metadata": {},
   "outputs": [
    {
     "name": "stdout",
     "output_type": "stream",
     "text": [
      "True\n",
      "True\n",
      "False\n"
     ]
    }
   ],
   "source": [
    "\"\"\"Question5\n",
    "Create a function that validates whether three given integers form a Pythagorean triplet. The\n",
    "sum of the squares of the two smallest integers must equal the square of the largest number to\n",
    "be validated.\n",
    "\n",
    "Examples\n",
    "is_triplet(3, 4, 5) ➞ True\n",
    "# 3² + 4² = 25\n",
    "# 5² = 25\n",
    "is_triplet(13, 5, 12) ➞ True\n",
    "# 5² + 12² = 169\n",
    "# 13² = 169\n",
    "is_triplet(1, 2, 3) ➞ False\n",
    "# 1² + 2² = 5\n",
    "# 3² = 9\n",
    "Notes\n",
    "Numbers may not be given in a sorted order. \"\"\"\n",
    "\n",
    "def is_triplet(a, b, c):\n",
    "    numbers = sorted([a, b, c])\n",
    "    if numbers[0]**2 + numbers[1]**2 == numbers[2]**2:\n",
    "        return True\n",
    "    else:\n",
    "        return False\n",
    "print(is_triplet(3, 4, 5))\n",
    "print(is_triplet(13, 5, 12))\n",
    "print(is_triplet(1, 2, 3))\n"
   ]
  },
  {
   "cell_type": "code",
   "execution_count": null,
   "id": "8c986bb2-e48a-4f66-b59f-045b0c4c4e4d",
   "metadata": {},
   "outputs": [],
   "source": []
  }
 ],
 "metadata": {
  "kernelspec": {
   "display_name": "Python 3 (ipykernel)",
   "language": "python",
   "name": "python3"
  },
  "language_info": {
   "codemirror_mode": {
    "name": "ipython",
    "version": 3
   },
   "file_extension": ".py",
   "mimetype": "text/x-python",
   "name": "python",
   "nbconvert_exporter": "python",
   "pygments_lexer": "ipython3",
   "version": "3.10.6"
  }
 },
 "nbformat": 4,
 "nbformat_minor": 5
}
