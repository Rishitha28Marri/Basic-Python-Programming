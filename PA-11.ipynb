{
 "cells": [
  {
   "cell_type": "code",
   "execution_count": 5,
   "id": "f085df7b-24a2-411b-9179-4f3509162183",
   "metadata": {},
   "outputs": [
    {
     "name": "stdin",
     "output_type": "stream",
     "text": [
      "Enter a value:  4\n"
     ]
    },
    {
     "name": "stdout",
     "output_type": "stream",
     "text": [
      "Words which are greater than given length 4 are ['Python', 'program', 'words', 'which', 'greater', 'given', 'length']\n"
     ]
    }
   ],
   "source": [
    "#1. Write a Python program to find words which are greater than given length k?\n",
    "\n",
    "def string_length(k,str):\n",
    "    new_str = []\n",
    "    text=str.split(\" \")\n",
    "    for i in text:\n",
    "        if len(i) > k:\n",
    "            new_str.append(i)\n",
    "    return new_str\n",
    "k = int(input(\"Enter a value: \"))\n",
    "str = \"Python program to find words which are greater than given length k\"\n",
    "print(f\"Words which are greater than given length {k} are\",string_length(k,str))\n"
   ]
  },
  {
   "cell_type": "code",
   "execution_count": 10,
   "id": "b13f6376-bf01-4e88-8d69-2a8a40f52e37",
   "metadata": {},
   "outputs": [
    {
     "name": "stdin",
     "output_type": "stream",
     "text": [
      "Enter a value:  2\n"
     ]
    },
    {
     "name": "stdout",
     "output_type": "stream",
     "text": [
      "String before removing i-th character: Python program\n",
      "String after removing 2 character: Pyhon program\n"
     ]
    }
   ],
   "source": [
    "#2. Write a Python program for removing i-th character from a string?\n",
    "def remove_string(str,i):\n",
    "    for k in range(len(str)):\n",
    "        if k == i:\n",
    "            str = str.replace(str[i],\"\")\n",
    "    return str\n",
    "i = int(input(\"Enter a value: \"))\n",
    "str = \"Python program\"\n",
    "print(\"String before removing i-th character:\",str)\n",
    "print(f\"String after removing {i} character:\",remove_string(str,i))\n"
   ]
  },
  {
   "cell_type": "code",
   "execution_count": 11,
   "id": "4b03caf9-305a-48eb-9dc0-c6d0aecd35cf",
   "metadata": {},
   "outputs": [
    {
     "name": "stdout",
     "output_type": "stream",
     "text": [
      "Original string is: Python program to split and join a string\n",
      "String after splitting is: ['Python', 'program', 'to', 'split', 'and', 'join', 'a', 'string']\n",
      "String after joining is: Python-program-to-split-and-join-a-string\n"
     ]
    }
   ],
   "source": [
    "#3. Write a Python program to split and join a string?\n",
    "\n",
    "def split_str(str):\n",
    "    str_split = str.split(' ')\n",
    "    return str_split\n",
    "\n",
    "def join_str(str_split):\n",
    "    str_join = str_split.replace(' ','-')\n",
    "    return str_join\n",
    "\n",
    "str=\"Python program to split and join a string\"\n",
    "print(\"Original string is:\",str)\n",
    "print(\"String after splitting is:\",split_str(str))\n",
    "print(\"String after joining is:\",join_str(str))\n",
    "    "
   ]
  },
  {
   "cell_type": "code",
   "execution_count": 16,
   "id": "1001ddb6-d995-47ef-a308-b8b96647a2e9",
   "metadata": {},
   "outputs": [
    {
     "name": "stdin",
     "output_type": "stream",
     "text": [
      "Enter a string:  010101\n"
     ]
    },
    {
     "name": "stdout",
     "output_type": "stream",
     "text": [
      "010101 is Binary\n"
     ]
    }
   ],
   "source": [
    "#4. Write a Python to check if a given string is binary string or not?\n",
    "def Binary_string(str):\n",
    "    s = '01'\n",
    "    count = 0\n",
    "    for i in str:\n",
    "        if i not in s:\n",
    "            count+= 1\n",
    "            break\n",
    "        else:\n",
    "            pass\n",
    "    return count\n",
    "str=input(\"Enter a string: \")\n",
    "        \n",
    "if Binary_string(str) > 0:\n",
    "    print(f'{str} is not Binary')\n",
    "else:\n",
    "    print(f'{str} is Binary')\n",
    "\n",
    "\n",
    "        \n",
    "            \n",
    "    \n"
   ]
  },
  {
   "cell_type": "code",
   "execution_count": 21,
   "id": "0b5d879e-fad9-409a-85ef-cd0141875a06",
   "metadata": {},
   "outputs": [
    {
     "name": "stdin",
     "output_type": "stream",
     "text": [
      "Enter a string:  Python program to find uncommon words\n",
      "Enter a string:  Python to find all duplicate\n"
     ]
    },
    {
     "name": "stdout",
     "output_type": "stream",
     "text": [
      "Uncommon words between Python program to find uncommon words and Python to find all duplicate are  ['all', 'words', 'uncommon', 'duplicate', 'program']\n"
     ]
    }
   ],
   "source": [
    "#5. Write a Python program to find uncommon words from two Strings?\n",
    "def Uncommon_words(A, B):\n",
    "    A=A.split()\n",
    "    B=B.split()\n",
    "    x=[]\n",
    "    for i in A:\n",
    "        if i not in B:\n",
    "            x.append(i)\n",
    "    for i in B:\n",
    "        if i not in A:\n",
    "            x.append(i)\n",
    "    x=list(set(x))\n",
    "    return x\n",
    "             \n",
    "A = input(\"Enter a string: \")\n",
    "B = input(\"Enter a string: \")\n",
    "print(f'Uncommon words between {A} and {B} are ',Uncommon_words(A, B))"
   ]
  },
  {
   "cell_type": "code",
   "execution_count": 25,
   "id": "3ced7bac-b316-42cd-a7fc-84231b5ff250",
   "metadata": {},
   "outputs": [
    {
     "name": "stdout",
     "output_type": "stream",
     "text": [
      "P o r\n"
     ]
    }
   ],
   "source": [
    "#6. Write a Python to find all duplicate characters in string?\n",
    "def dup_char(str):\n",
    "    x=[]\n",
    "    for i in str:\n",
    "        if i not in x and str.count(i)>1:\n",
    "            x.append(i)\n",
    "    print(\" \".join(x))\n",
    "str=\"PythonProgram\"\n",
    "dup_char(str)"
   ]
  },
  {
   "cell_type": "code",
   "execution_count": 28,
   "id": "0611ef16-44b6-4bdd-9756-7be3bef3dd40",
   "metadata": {},
   "outputs": [
    {
     "name": "stdout",
     "output_type": "stream",
     "text": [
      "String contains special character\n"
     ]
    }
   ],
   "source": [
    "#7. Write a Python Program to check if a string contains any special character?\n",
    "n=\"$peci@lch@r@cter\"\n",
    "n.split()\n",
    "c=0\n",
    "s='[@_!#$%^&*()<>?/\\|}{~:]' \n",
    "for i in range(len(n)):\n",
    "    if n[i] in s:\n",
    "        c+=1       \n",
    "if c:\n",
    "    print(\"String contains special character\")\n",
    "else:\n",
    "    print(\"String does not contain special character\")"
   ]
  },
  {
   "cell_type": "code",
   "execution_count": null,
   "id": "641c5586-3d72-42a4-aab5-569721d89922",
   "metadata": {},
   "outputs": [],
   "source": []
  }
 ],
 "metadata": {
  "kernelspec": {
   "display_name": "Python 3 (ipykernel)",
   "language": "python",
   "name": "python3"
  },
  "language_info": {
   "codemirror_mode": {
    "name": "ipython",
    "version": 3
   },
   "file_extension": ".py",
   "mimetype": "text/x-python",
   "name": "python",
   "nbconvert_exporter": "python",
   "pygments_lexer": "ipython3",
   "version": "3.10.6"
  }
 },
 "nbformat": 4,
 "nbformat_minor": 5
}
