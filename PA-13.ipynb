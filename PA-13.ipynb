{
 "cells": [
  {
   "cell_type": "code",
   "execution_count": 9,
   "id": "c4fb768b-2f65-46b2-8418-c7acfffd6515",
   "metadata": {},
   "outputs": [
    {
     "name": "stdin",
     "output_type": "stream",
     "text": [
      "Enter comma-separated sequence:  100,150,180\n"
     ]
    },
    {
     "name": "stdout",
     "output_type": "stream",
     "text": [
      "18,22,24\n"
     ]
    }
   ],
   "source": [
    "\"\"\"Question 1:\n",
    "Write a program that calculates and prints the value according to the given formula:\n",
    "Q = Square root of [(2 * C * D)/H]\n",
    "Following are the fixed values of C and H:\n",
    "C is 50. H is 30.\n",
    "D is the variable whose values should be input to your program in a comma-separated\n",
    "sequence.\n",
    "Example\n",
    "Let us assume the following comma separated input sequence is given to the program:\n",
    "100,150,180\n",
    "The output of the program should be:\n",
    "18,22,24 \"\"\"\n",
    "\n",
    "import math\n",
    "C = 50\n",
    "H = 30\n",
    "D_list = input(\"Enter comma-separated sequence: \")\n",
    "D_value = D_list.split(',')\n",
    "result = \"\"\n",
    "for D_s in D_value:\n",
    "    D = int(D_s)\n",
    "    Q = int(math.sqrt(2*C*D/H))\n",
    "    result+= str(Q) + ','\n",
    "result=result[:-1]\n",
    "print(result)\n",
    "    \n",
    "\n",
    "\n"
   ]
  },
  {
   "cell_type": "code",
   "execution_count": 13,
   "id": "da3aace6-ff92-4d29-a7a5-a051816e08ac",
   "metadata": {},
   "outputs": [
    {
     "name": "stdin",
     "output_type": "stream",
     "text": [
      "Enter Number of rows:  3\n",
      "Enter Number of colums:  5\n"
     ]
    },
    {
     "name": "stdout",
     "output_type": "stream",
     "text": [
      "0 0 0 0 0 \n",
      "0 1 2 3 4 \n",
      "0 2 4 6 8 \n"
     ]
    }
   ],
   "source": [
    "\"\"\" Question 2:\n",
    "Write a program which takes 2 digits, X,Y as input and generates a 2-dimensional array. The\n",
    "element value in the i-th row and j-th column of the array should be i*j.\n",
    "Note: i=0,1.., X-1; j=0,1,¡Y-1.\n",
    "Example\n",
    "Suppose the following inputs are given to the program:\n",
    "3,5\n",
    "Then, the output of the program should be:\n",
    "[[0, 0, 0, 0, 0], [0, 1, 2, 3, 4], [0, 2, 4, 6, 8]]\n",
    "\"\"\"\n",
    "\n",
    "#X, Y = map(int, input().split())\n",
    "\n",
    "X = int(input(\"Enter Number of rows: \"))\n",
    "Y = int(input(\"Enter Number of colums: \"))\n",
    "\n",
    "\n",
    "arr = [[0 for j in range(Y)] for i in range(X)]\n",
    "\n",
    "for i in range(X):\n",
    "    for j in range(Y):\n",
    "        arr[i][j] = i*j\n",
    "\n",
    "for i in range(X):\n",
    "    for j in range(Y):\n",
    "        print(arr[i][j], end=\" \")\n",
    "    print()"
   ]
  },
  {
   "cell_type": "code",
   "execution_count": 14,
   "id": "81b1aa3e-577a-4e8f-9091-ba929737efd1",
   "metadata": {},
   "outputs": [
    {
     "name": "stdin",
     "output_type": "stream",
     "text": [
      "Enter comma-separated words:  without,hello,bag,world\n"
     ]
    },
    {
     "name": "stdout",
     "output_type": "stream",
     "text": [
      "bag,hello,without,world\n"
     ]
    }
   ],
   "source": [
    "\"\"\"Question 3:\n",
    "Write a program that accepts a comma separated sequence of words as input and prints the\n",
    "words in a comma-separated sequence after sorting them alphabetically.\n",
    "Suppose the following input is supplied to the program:\n",
    "without,hello,bag,world\n",
    "Then, the output should be:\n",
    "bag,hello,without,world \"\"\"\n",
    "\n",
    "words = input(\"Enter comma-separated words: \").split(\",\")\n",
    "\n",
    "words.sort()\n",
    "\n",
    "output = \",\".join(words)\n",
    "print(output)"
   ]
  },
  {
   "cell_type": "code",
   "execution_count": 15,
   "id": "71b92d95-eb25-44ae-859f-271f1329543c",
   "metadata": {},
   "outputs": [
    {
     "name": "stdin",
     "output_type": "stream",
     "text": [
      " hello world and practice makes perfect and hello world again\n"
     ]
    },
    {
     "name": "stdout",
     "output_type": "stream",
     "text": [
      "again and hello makes perfect practice world\n"
     ]
    }
   ],
   "source": [
    "\"\"\"Question 4:\n",
    "Write a program that accepts a sequence of whitespace separated words as input and prints\n",
    "the words after removing all duplicate words and sorting them alphanumerically.\n",
    "Suppose the following input is supplied to the program:\n",
    "hello world and practice makes perfect and hello world again\n",
    "Then, the output should be:\n",
    "again and hello makes perfect practice world \"\"\"\n",
    "\n",
    "words = input().split()\n",
    "unique_words = sorted(set(words))\n",
    "print(' '.join(unique_words))"
   ]
  },
  {
   "cell_type": "code",
   "execution_count": 16,
   "id": "156c7121-a164-4c3e-9091-23655ff0b57e",
   "metadata": {},
   "outputs": [
    {
     "name": "stdin",
     "output_type": "stream",
     "text": [
      "Enter a sentence:  hello world! 123\n"
     ]
    },
    {
     "name": "stdout",
     "output_type": "stream",
     "text": [
      "LETTERS 10\n",
      "DIGITS 3\n"
     ]
    }
   ],
   "source": [
    "\"\"\"Question 5:\n",
    "Write a program that accepts a sentence and calculate the number of letters and digits.\n",
    "Suppose the following input is supplied to the program:\n",
    "hello world! 123\n",
    "Then, the output should be:\n",
    "LETTERS 10\n",
    "\n",
    "DIGITS 3 \"\"\"\n",
    "\n",
    "sentence = input(\"Enter a sentence: \")\n",
    "letter_count = digit_count = 0\n",
    "\n",
    "for char in sentence:\n",
    "    if char.isalpha():\n",
    "        letter_count += 1\n",
    "    elif char.isdigit():\n",
    "        digit_count += 1\n",
    "\n",
    "print(\"LETTERS\", letter_count)\n",
    "print(\"DIGITS\", digit_count)"
   ]
  },
  {
   "cell_type": "code",
   "execution_count": 18,
   "id": "5343804c-5b31-455a-a1db-1cdfc3ebaa33",
   "metadata": {},
   "outputs": [
    {
     "name": "stdin",
     "output_type": "stream",
     "text": [
      "Enter comma separated passwords:  ABd1234@1,a F1#,2w3E*,2We3345\n"
     ]
    },
    {
     "name": "stdout",
     "output_type": "stream",
     "text": [
      "ABd1234@1, "
     ]
    }
   ],
   "source": [
    "\"\"\"Question 6:\n",
    "A website requires the users to input username and password to register. Write a program to\n",
    "check the validity of password input by users.\n",
    "Following are the criteria for checking the password:\n",
    "1. At least 1 letter between [a-z]\n",
    "2. At least 1 number between [0-9]\n",
    "1. At least 1 letter between [A-Z]\n",
    "3. At least 1 character from [$#@]\n",
    "4. Minimum length of transaction password: 6\n",
    "5. Maximum length of transaction password: 12\n",
    "Your program should accept a sequence of comma separated passwords and will check them\n",
    "according to the above criteria. Passwords that match the criteria are to be printed, each\n",
    "separated by a comma.\n",
    "Example\n",
    "If the following passwords are given as input to the program:\n",
    "ABd1234@1,a F1#,2w3E*,2We3345\n",
    "Then, the output of the program should be:\n",
    "ABd1234@1 \"\"\"\n",
    "\n",
    "import re\n",
    "pattern = \"^(?=.*[a-z])(?=.*[A-Z])(?=.*\\d)(?=.*[$#@])[A-Za-z\\d$#@]{6,12}$\"\n",
    "passwords = input(\"Enter comma separated passwords: \")\n",
    "\n",
    "for password in passwords.split(\",\"):\n",
    "    password = password.strip()  \n",
    "    if re.match(pattern, password):\n",
    "        print(password, end=\", \") "
   ]
  },
  {
   "cell_type": "code",
   "execution_count": null,
   "id": "c26a174a-40ec-4693-9f11-666a17a69385",
   "metadata": {},
   "outputs": [],
   "source": []
  }
 ],
 "metadata": {
  "kernelspec": {
   "display_name": "Python 3 (ipykernel)",
   "language": "python",
   "name": "python3"
  },
  "language_info": {
   "codemirror_mode": {
    "name": "ipython",
    "version": 3
   },
   "file_extension": ".py",
   "mimetype": "text/x-python",
   "name": "python",
   "nbconvert_exporter": "python",
   "pygments_lexer": "ipython3",
   "version": "3.10.6"
  }
 },
 "nbformat": 4,
 "nbformat_minor": 5
}
