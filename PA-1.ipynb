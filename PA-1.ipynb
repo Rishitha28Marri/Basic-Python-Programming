{
 "cells": [
  {
   "cell_type": "code",
   "execution_count": 1,
   "id": "657fafa6-512b-4392-8390-a3970bd4483c",
   "metadata": {},
   "outputs": [
    {
     "name": "stdout",
     "output_type": "stream",
     "text": [
      "Hello Python\n"
     ]
    }
   ],
   "source": [
    "#Write a Python program to print \"Hello Python\"\n",
    "\n",
    "print(\"Hello Python\")"
   ]
  },
  {
   "cell_type": "code",
   "execution_count": 4,
   "id": "7d8ae313-6c49-43d1-a6ba-e46e32c5330a",
   "metadata": {},
   "outputs": [
    {
     "name": "stdin",
     "output_type": "stream",
     "text": [
      "Enter first number:  4\n",
      "Enter second number:  2\n"
     ]
    },
    {
     "name": "stdout",
     "output_type": "stream",
     "text": [
      "Addition of 4 and 2 is 6\n",
      "Subraction of 4 and 2 is 2\n",
      "Multiplication of 4 and 2 is 8\n",
      "Division of 4 and 2 is 2.0\n"
     ]
    }
   ],
   "source": [
    "#Write a Python program to do arithmetical operations addition and division.?\n",
    "\n",
    "num1=int(input(\"Enter first number: \"))\n",
    "num2=int(input(\"Enter second number: \"))\n",
    "print(f'Addition of {num1} and {num2} is {num1+num2}')\n",
    "print(f'Subraction of {num1} and {num2} is {num1-num2}')\n",
    "print(f'Multiplication of {num1} and {num2} is {num1*num2}')\n",
    "print(f'Division of {num1} and {num2} is {num1/num2}')"
   ]
  },
  {
   "cell_type": "code",
   "execution_count": 6,
   "id": "e8e93d3b-2397-4897-8bb9-ef34b2d5ebd8",
   "metadata": {},
   "outputs": [
    {
     "name": "stdin",
     "output_type": "stream",
     "text": [
      "Enter height of triangle:  2\n",
      "Enter base of triangle:  4\n"
     ]
    },
    {
     "name": "stdout",
     "output_type": "stream",
     "text": [
      "Area of tringle is 4.0\n"
     ]
    }
   ],
   "source": [
    "#Write a Python program to find the area of a triangle?\n",
    "height=int(input(\"Enter height of triangle: \"))\n",
    "base=int(input(\"Enter base of triangle: \"))\n",
    "area=(1/2)*base*height\n",
    "print(f'Area of tringle is {area}')"
   ]
  },
  {
   "cell_type": "code",
   "execution_count": 14,
   "id": "da6c587f-db97-44a5-97c2-e14ee42bedd5",
   "metadata": {},
   "outputs": [
    {
     "name": "stdin",
     "output_type": "stream",
     "text": [
      "Enter first number:  20\n",
      "Enter second number:  10\n"
     ]
    },
    {
     "name": "stdout",
     "output_type": "stream",
     "text": [
      "First number:10, Second number:20\n"
     ]
    }
   ],
   "source": [
    "#Write a Python program to swap two variables?\n",
    "num1=int(input(\"Enter first number: \"))\n",
    "num2=int(input(\"Enter second number: \"))\n",
    "num1=num2+num1\n",
    "num2=num1-num2\n",
    "num1=num1-num2\n",
    "print(f\"First number:{num1}, Second number:{num2}\")"
   ]
  },
  {
   "cell_type": "code",
   "execution_count": 20,
   "id": "5d64d296-86ae-485c-84ad-95472c6773d1",
   "metadata": {},
   "outputs": [
    {
     "name": "stdout",
     "output_type": "stream",
     "text": [
      "14\n"
     ]
    }
   ],
   "source": [
    "#Write a Python program to generate a random number?\n",
    "import random\n",
    "print(random.randint(0,20)) #generates a random number between 0 to 20"
   ]
  }
 ],
 "metadata": {
  "kernelspec": {
   "display_name": "Python 3 (ipykernel)",
   "language": "python",
   "name": "python3"
  },
  "language_info": {
   "codemirror_mode": {
    "name": "ipython",
    "version": 3
   },
   "file_extension": ".py",
   "mimetype": "text/x-python",
   "name": "python",
   "nbconvert_exporter": "python",
   "pygments_lexer": "ipython3",
   "version": "3.10.6"
  }
 },
 "nbformat": 4,
 "nbformat_minor": 5
}
