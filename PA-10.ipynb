{
 "cells": [
  {
   "cell_type": "code",
   "execution_count": 2,
   "id": "00bd9a6d-7ce2-4208-b456-cd292ce65fa3",
   "metadata": {},
   "outputs": [
    {
     "name": "stdout",
     "output_type": "stream",
     "text": [
      "Sum of elements in list is 40\n"
     ]
    }
   ],
   "source": [
    "#1. Write a Python program to find sum of elements in list?\n",
    "lst = [12, 15, 3, 10]\n",
    "sum = 0\n",
    "for i in lst:\n",
    "    sum+= i\n",
    "print(f\"Sum of elements in list is {sum}\")"
   ]
  },
  {
   "cell_type": "code",
   "execution_count": 4,
   "id": "96fd9bbd-a689-453a-917c-acd517628e93",
   "metadata": {},
   "outputs": [
    {
     "name": "stdout",
     "output_type": "stream",
     "text": [
      "Multiplication of all elements in list is 5400\n"
     ]
    }
   ],
   "source": [
    "#2. Write a Python program to Multiply all numbers in the list?\n",
    "lst = [12, 15, 3, 10]\n",
    "mul = 1\n",
    "for i in lst:\n",
    "    mul*= i\n",
    "print(f\"Multiplication of all elements in list is {mul}\")"
   ]
  },
  {
   "cell_type": "code",
   "execution_count": 1,
   "id": "1a57ba01-9bdf-4dbf-aa00-bffc80d7ccf1",
   "metadata": {},
   "outputs": [
    {
     "name": "stdout",
     "output_type": "stream",
     "text": [
      "Smallest number in a list is 1\n"
     ]
    }
   ],
   "source": [
    "#3. Write a Python program to find smallest number in a list?\n",
    "lst = [12, 15, 3, 10, 1]\n",
    "minm = lst[0]\n",
    "for i in range(0,len(lst)):\n",
    "    if minm > lst[i]:\n",
    "        minm = lst[i]\n",
    "print(f\"Smallest number in a list is {minm}\")"
   ]
  },
  {
   "cell_type": "code",
   "execution_count": 13,
   "id": "c336f2f6-94f1-48da-b319-503ccab15b54",
   "metadata": {},
   "outputs": [
    {
     "name": "stdout",
     "output_type": "stream",
     "text": [
      "Largest number in a list is 55\n"
     ]
    }
   ],
   "source": [
    "#4. Write a Python program to find largest number in a list?\n",
    "lst = [12, 15, 3, 10, 1,55]\n",
    "mxm = lst[0]\n",
    "for i in range(0,len(lst)):\n",
    "    if mxm < lst[i]:\n",
    "        mxm = lst[i]\n",
    "print(f\"Largest number in a list is {mxm}\")"
   ]
  },
  {
   "cell_type": "code",
   "execution_count": 28,
   "id": "f46a66de-47a1-4685-a41d-89ac2b586a64",
   "metadata": {},
   "outputs": [
    {
     "name": "stdout",
     "output_type": "stream",
     "text": [
      "[1, 3, 4, 10, 12, 15, 55, 100]\n",
      "Second largest number in a list is 55\n"
     ]
    }
   ],
   "source": [
    "#5. Write a Python program to find second largest number in a list?\n",
    "lst = [12, 15, 10, 4, 12, 100, 3, 10, 1, 55]\n",
    "lst1=list(set(lst))\n",
    "lst1.sort()\n",
    "print(lst1)\n",
    "print(\"Second largest number in a list is\",lst1[-2])\n"
   ]
  },
  {
   "cell_type": "code",
   "execution_count": 22,
   "id": "9f9fae82-5c76-4b25-b48d-21bc8cbdb387",
   "metadata": {},
   "outputs": [
    {
     "name": "stdout",
     "output_type": "stream",
     "text": [
      "[15, 55]\n"
     ]
    }
   ],
   "source": [
    "#6. Write a Python program to find N largest elements from a list?\n",
    "lst = [12, 15, 3, 10, 1,55]\n",
    "lst.sort()\n",
    "n = 2\n",
    "arr=[]\n",
    "while n:\n",
    "    arr.append(lst[-n])\n",
    "    n-= 1\n",
    "print(arr)\n"
   ]
  },
  {
   "cell_type": "code",
   "execution_count": 23,
   "id": "11b6d0db-ee41-4635-a469-0a478439a2cf",
   "metadata": {},
   "outputs": [
    {
     "name": "stdout",
     "output_type": "stream",
     "text": [
      "12 10 "
     ]
    }
   ],
   "source": [
    "#7. Write a Python program to print even numbers in a list?\n",
    "lst = [12, 15, 3, 10, 1,55]\n",
    "for i in range(0,len(lst)):\n",
    "    if lst[i]%2==0:\n",
    "        print(lst[i], end = ' ')\n",
    "\n"
   ]
  },
  {
   "cell_type": "code",
   "execution_count": 18,
   "id": "83bc1aed-81a1-4a10-9358-049de8a962d9",
   "metadata": {},
   "outputs": [
    {
     "name": "stdout",
     "output_type": "stream",
     "text": [
      "15 3 1 55 "
     ]
    }
   ],
   "source": [
    "#8. Write a Python program to print odd numbers in a List?\n",
    "lst = [12, 15, 3, 10, 1,55]\n",
    "for i in range(0,len(lst)):\n",
    "    if lst[i]%2!=0:\n",
    "        print(lst[i], end=' ')\n"
   ]
  },
  {
   "cell_type": "code",
   "execution_count": 30,
   "id": "7f2ce58a-1eea-4350-8b60-97eb88fef23f",
   "metadata": {},
   "outputs": [
    {
     "name": "stdout",
     "output_type": "stream",
     "text": [
      "The original list is [5, 6, [], 3, [], [], 9]\n",
      "List after removing empty list is [5, 6, 3, 9]\n"
     ]
    }
   ],
   "source": [
    "#9. Write a Python program to Remove empty List from List?\n",
    "lst = [5, 6, [], 3, [], [], 9]\n",
    "print(\"The original list is\",lst)\n",
    "lst1 = []\n",
    "for ele in lst:\n",
    "    if ele != []:\n",
    "        lst1.append(ele)\n",
    "print(\"List after removing empty list is\",lst1)"
   ]
  },
  {
   "cell_type": "code",
   "execution_count": 31,
   "id": "e0f46f48-8716-4e29-a54a-fb021a5153b8",
   "metadata": {},
   "outputs": [
    {
     "name": "stdout",
     "output_type": "stream",
     "text": [
      "List BEFORE cloning is  [12, 15, 3, 10, 1, 55]\n",
      "List AFTER cloning is  [12, 15, 3, 10, 1, 55]\n"
     ]
    }
   ],
   "source": [
    "#10. Write a Python program to Cloning or Copying a list?\n",
    "def Clone(lst):\n",
    "    l_copy = lst[:]\n",
    "    return l_copy\n",
    "\n",
    "lst = [12, 15, 3, 10, 1,55]\n",
    "print(\"List BEFORE cloning is \",lst)\n",
    "print(\"List AFTER cloning is \",Clone(lst))"
   ]
  },
  {
   "cell_type": "code",
   "execution_count": 35,
   "id": "617d86d0-24ed-46fb-bc43-77bb175efba7",
   "metadata": {},
   "outputs": [
    {
     "name": "stdout",
     "output_type": "stream",
     "text": [
      "10 has occured in list 3 times\n"
     ]
    }
   ],
   "source": [
    "#11. Write a Python program to Count occurrences of an element in a list\n",
    "lst = [12, 15, 10, 4, 12, 10, 100, 3, 10, 1, 55]\n",
    "x = 10\n",
    "count = 0\n",
    "for i in lst:\n",
    "    if i == x:\n",
    "        count+= 1\n",
    "print(f'{x} has occured in list {count} times')\n",
    "        "
   ]
  },
  {
   "cell_type": "code",
   "execution_count": null,
   "id": "c1e8bfb8-dadd-4414-bbce-417b78125b6b",
   "metadata": {},
   "outputs": [],
   "source": []
  }
 ],
 "metadata": {
  "kernelspec": {
   "display_name": "Python 3 (ipykernel)",
   "language": "python",
   "name": "python3"
  },
  "language_info": {
   "codemirror_mode": {
    "name": "ipython",
    "version": 3
   },
   "file_extension": ".py",
   "mimetype": "text/x-python",
   "name": "python",
   "nbconvert_exporter": "python",
   "pygments_lexer": "ipython3",
   "version": "3.10.6"
  }
 },
 "nbformat": 4,
 "nbformat_minor": 5
}
