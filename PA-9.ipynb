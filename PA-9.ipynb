{
 "cells": [
  {
   "cell_type": "code",
   "execution_count": 6,
   "id": "9f82ab84-b439-4cae-8893-a4f3ba7f2e54",
   "metadata": {},
   "outputs": [
    {
     "name": "stdin",
     "output_type": "stream",
     "text": [
      "Enter a number:  89\n"
     ]
    },
    {
     "name": "stdout",
     "output_type": "stream",
     "text": [
      "89  is disarium number\n"
     ]
    }
   ],
   "source": [
    "#1. Write a Python program to check if the given number is a Disarium Number?\n",
    "def disarium(num):\n",
    "    countlen= len(str(num))\n",
    "    sum=0\n",
    "    x = num\n",
    "    while x!=0:\n",
    "        rem = x%10\n",
    "        sum = sum+(rem**countlen)\n",
    "        countlen-= 1\n",
    "        x = x//10\n",
    "    return sum\n",
    "\n",
    "        \n",
    "num = int(input(\"Enter a number: \"))       \n",
    "disarium(num)   \n",
    "\n",
    "if disarium(num)==num:\n",
    "    print(num,\" is disarium number\")\n",
    "else:\n",
    "    print(num,\" is not disarium number\")\n"
   ]
  },
  {
   "cell_type": "code",
   "execution_count": 8,
   "id": "9980d07d-e398-4302-97b5-284dd4f5490b",
   "metadata": {},
   "outputs": [
    {
     "name": "stdin",
     "output_type": "stream",
     "text": [
      "Enter the Minimum Disarium Number =  1\n",
      "Enter the Maximum Disarium Number =  100\n"
     ]
    },
    {
     "name": "stdout",
     "output_type": "stream",
     "text": [
      "\n",
      "The List of Disarium Numbers from 1 and 100\n",
      "1   2   3   4   5   6   7   8   9   89   "
     ]
    }
   ],
   "source": [
    "#2. Write a Python program to print all disarium numbers between 1 to 100?\n",
    "import math\n",
    "def digitsCount(Number):\n",
    "    length = 0\n",
    "    while Number != 0:\n",
    "        length = length + 1\n",
    "        Number = Number // 10\n",
    "    return length\n",
    "\n",
    "def digitsSum(Number):\n",
    "    Sum = 0\n",
    "    rem = 0\n",
    "    length = digitsCount(Number)\n",
    "    while Number > 0:\n",
    "        rem = Number % 10\n",
    "        Sum = Sum + math.pow(rem, length)\n",
    "        Number = Number // 10\n",
    "        length = length - 1\n",
    "    return Sum\n",
    "\n",
    "\n",
    "minDis = int(input(\"Enter the Minimum Disarium Number = \"))\n",
    "maxDis = int(input(\"Enter the Maximum Disarium Number = \"))\n",
    "\n",
    "print(\"\\nThe List of Disarium Numbers from {0} and {1}\".format(minDis, maxDis)) \n",
    "for i in range(minDis, maxDis):\n",
    "    Sum = digitsSum(i)\n",
    "\n",
    "    if Sum == i:\n",
    "        print(i, end = \"   \")"
   ]
  },
  {
   "cell_type": "code",
   "execution_count": 9,
   "id": "19e9c5e3-1997-47df-ad46-68e02f4d7216",
   "metadata": {},
   "outputs": [
    {
     "name": "stdout",
     "output_type": "stream",
     "text": [
      "82 is a happy number\n"
     ]
    }
   ],
   "source": [
    "#3. Write a Python program to check if the given number is Happy Number?\n",
    "def isHappyNumber(num):    \n",
    "    rem = sum = 0;       \n",
    "    while(num > 0):    \n",
    "        rem = num%10;    \n",
    "        sum = sum + (rem*rem);    \n",
    "        num = num//10;    \n",
    "    return sum;    \n",
    "        \n",
    "num = 82;    \n",
    "result = num;    \n",
    "     \n",
    "while(result != 1 and result != 4):    \n",
    "    result = isHappyNumber(result);       \n",
    "if(result == 1):    \n",
    "    print(str(num) + \" is a happy number\");       \n",
    "elif(result == 4):    \n",
    "    print(str(num) + \" is not a happy number\");   "
   ]
  },
  {
   "cell_type": "code",
   "execution_count": 14,
   "id": "a4ac83b5-a05a-4555-9737-0fc9c0fecd32",
   "metadata": {},
   "outputs": [
    {
     "name": "stdout",
     "output_type": "stream",
     "text": [
      "List of happy numbers between 1 and 100: \n",
      "1 7 10 13 19 23 28 31 32 44 49 68 70 79 82 86 91 94 97 100 "
     ]
    }
   ],
   "source": [
    "#4. Write a Python program to print all happy numbers between 1 and 100?\n",
    "def isHappyNumber(num):    \n",
    "    rem = sum = 0;     \n",
    "    while(num > 0):    \n",
    "        rem = num%10;    \n",
    "        sum = sum + (rem*rem);    \n",
    "        num = num//10;    \n",
    "    return sum;       \n",
    "print(\"List of happy numbers between 1 and 100: \");    \n",
    "for i in range(1, 101):    \n",
    "    result = i;        \n",
    "    while(result != 1 and result != 4):    \n",
    "        result = isHappyNumber(result);    \n",
    "    if(result == 1):    \n",
    "        print(i,end=' ' )  "
   ]
  },
  {
   "cell_type": "code",
   "execution_count": 1,
   "id": "c73015e7-9d03-439d-b7d6-17a217834541",
   "metadata": {},
   "outputs": [
    {
     "name": "stdin",
     "output_type": "stream",
     "text": [
      "Enter a number:  21\n"
     ]
    },
    {
     "name": "stdout",
     "output_type": "stream",
     "text": [
      "0 is Harshad number\n"
     ]
    }
   ],
   "source": [
    "#5. Write a Python program to determine whether the given number is a Harshad Number?\n",
    "n = int(input(\"Enter a number: \")) \n",
    "p=n\n",
    "sum1=0\n",
    "while(n>0):\n",
    "    sum1+=n%10\n",
    "    n=n//10\n",
    "if(p%sum1==0):\n",
    "    print(n,\"is Harshad number\")\n",
    "else:\n",
    "    print(\"Not harshad number\")"
   ]
  },
  {
   "cell_type": "code",
   "execution_count": 17,
   "id": "b181022c-5d51-4955-96b9-8eaca68da496",
   "metadata": {},
   "outputs": [
    {
     "name": "stdout",
     "output_type": "stream",
     "text": [
      "Pronic numbers between 1 and 100: \n",
      "2 6 12 20 30 42 56 72 90 "
     ]
    }
   ],
   "source": [
    "#6. Write a Python program to print all pronic numbers between 1 and 100?\n",
    "def isPronicNumber(num):    \n",
    "    flag = False;    \n",
    "        \n",
    "    for j in range(1, num+1):        \n",
    "        if((j*(j+1)) == num):    \n",
    "            flag = True;    \n",
    "            break;    \n",
    "    return flag;        \n",
    "print(\"Pronic numbers between 1 and 100: \");    \n",
    "for i in range(1, 101):    \n",
    "    if(isPronicNumber(i)):    \n",
    "        print(i,end = ' '),    \n",
    "        "
   ]
  },
  {
   "cell_type": "code",
   "execution_count": null,
   "id": "42f63f8f-5115-46e5-bdb4-6ca4c892b1df",
   "metadata": {},
   "outputs": [],
   "source": []
  }
 ],
 "metadata": {
  "kernelspec": {
   "display_name": "Python 3 (ipykernel)",
   "language": "python",
   "name": "python3"
  },
  "language_info": {
   "codemirror_mode": {
    "name": "ipython",
    "version": 3
   },
   "file_extension": ".py",
   "mimetype": "text/x-python",
   "name": "python",
   "nbconvert_exporter": "python",
   "pygments_lexer": "ipython3",
   "version": "3.10.6"
  }
 },
 "nbformat": 4,
 "nbformat_minor": 5
}
