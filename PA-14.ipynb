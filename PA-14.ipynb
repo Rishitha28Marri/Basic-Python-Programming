{
 "cells": [
  {
   "cell_type": "code",
   "execution_count": 1,
   "id": "d136187d-1f3e-4d4f-9988-ab5d697bfbc6",
   "metadata": {},
   "outputs": [],
   "source": [
    "\"\"\"Question 1:\n",
    "Define a class with a generator which can iterate the numbers, which are divisible by\n",
    "7, between a given range 0 and n.\"\"\"\n",
    "\n",
    "\n",
    "class DivisibleBySeven:\n",
    "    def __init__(self, n):\n",
    "        self.n = n\n",
    "    \n",
    "    def __iter__(self):\n",
    "        return self.generator()\n",
    "    \n",
    "    def generator(self):\n",
    "        for i in range(self.n):\n",
    "            if i % 7 == 0:\n",
    "                yield i"
   ]
  },
  {
   "cell_type": "code",
   "execution_count": 6,
   "id": "6e986441-4806-4ccf-9d1c-a3b685e01554",
   "metadata": {},
   "outputs": [
    {
     "name": "stdout",
     "output_type": "stream",
     "text": [
      "0 7 14 21 28 35 42 49 "
     ]
    }
   ],
   "source": [
    "for i in DivisibleBySeven(50):\n",
    "    print(i,end=' ')"
   ]
  },
  {
   "cell_type": "code",
   "execution_count": null,
   "id": "7e01a726-877d-4af7-9831-c4a68d3eb71f",
   "metadata": {},
   "outputs": [],
   "source": [
    "\"\"\"Question 2:\n",
    "Write a program to compute the frequency of the words from the input. The output\n",
    "should output after sorting the key alphanumerically.\n",
    "Suppose the following input is supplied to the program:\n",
    "New to Python or choosing between Python 2 and Python 3? Read Python 2 or\n",
    "Python 3.\n",
    "Then, the output should be:\n",
    "2:2\n",
    "3.:1\n",
    "3?:1\n",
    "New:1\n",
    "Python:5\n",
    "Read:1\n",
    "and:1\n",
    "between:1\n",
    "choosing:1\n",
    "or:2\n",
    "to:1 \"\"\""
   ]
  },
  {
   "cell_type": "code",
   "execution_count": 1,
   "id": "b0d76971-cc9d-4811-a9ec-ee58f4db44f2",
   "metadata": {},
   "outputs": [
    {
     "name": "stdin",
     "output_type": "stream",
     "text": [
      "Enter a string:  New to Python or choosing between Python 2 and Python 3? Read Python 2 or Python 3\n"
     ]
    },
    {
     "name": "stdout",
     "output_type": "stream",
     "text": [
      "2:2\n",
      "3:1\n",
      "3?:1\n",
      "New:1\n",
      "Python:5\n",
      "Read:1\n",
      "and:1\n",
      "between:1\n",
      "choosing:1\n",
      "or:2\n",
      "to:1\n"
     ]
    }
   ],
   "source": [
    "from collections import defaultdict\n",
    "\n",
    "input_string = input(\"Enter a string: \")\n",
    "word_freq = defaultdict(int)\n",
    "\n",
    "for word in input_string.split():\n",
    "    word_freq[word] += 1\n",
    "\n",
    "for word in sorted(word_freq.keys()):\n",
    "    print(\"{}:{}\".format(word, word_freq[word]))"
   ]
  },
  {
   "cell_type": "code",
   "execution_count": 10,
   "id": "e7b15d7e-e9ce-43cb-b55a-81581424664e",
   "metadata": {},
   "outputs": [],
   "source": [
    "\"\"\"Question 3:\n",
    "\n",
    "Define a class Person and its two child classes: Male and Female. All classes have a\n",
    "method &quot;getGender&quot; which can print &quot;Male&quot; for Male class and &quot;Female&quot; for Female\n",
    "class. \"\"\"\n",
    "\n",
    "class Person:\n",
    "    def get_Gender(self):\n",
    "        print(\"Unknown gender\")\n",
    "    \n",
    "class Male(Person):\n",
    "    def get_Gender(self):\n",
    "        print(\"Gender: Male\")\n",
    "    \n",
    "class Female(Person):\n",
    "    def get_Gender(self):\n",
    "        print(\"Gender: Female\")\n",
    "        \n",
    "        \n"
   ]
  },
  {
   "cell_type": "code",
   "execution_count": 12,
   "id": "5c5695d4-37ff-4229-ac0b-abc245034e94",
   "metadata": {},
   "outputs": [
    {
     "name": "stdout",
     "output_type": "stream",
     "text": [
      "Unknown gender\n",
      "Gender: Male\n",
      "Gender: Female\n"
     ]
    }
   ],
   "source": [
    "person = Person()\n",
    "person.get_Gender()\n",
    "\n",
    "male = Male()\n",
    "male.get_Gender()\n",
    "\n",
    "female = Female()\n",
    "female.get_Gender()"
   ]
  },
  {
   "cell_type": "code",
   "execution_count": 14,
   "id": "21426397-5b91-4a84-90b3-27d4c7d45162",
   "metadata": {},
   "outputs": [
    {
     "name": "stdout",
     "output_type": "stream",
     "text": [
      "['I Play Football', 'I Love Football', 'You Play Football', 'You Love Football']\n"
     ]
    }
   ],
   "source": [
    "\"\"\"Question 4:\n",
    "Please write a program to generate all sentences where subject is in [&quot;I&quot;, &quot;You&quot;] and\n",
    "verb is in [&quot;Play&quot;, &quot;Love&quot;] and the object is in [&quot;Hockey&quot;,&quot;Football&quot;]. \"\"\"\n",
    "\n",
    "subjects = [\"I\", \"You\"]\n",
    "verbs = [\"Play\", \"Love\"]\n",
    "objects = [\"Hockey\", \"Football\"]\n",
    "sentences = []\n",
    "for subject in subjects:\n",
    "    for verb in verbs:\n",
    "        for object in objects:\n",
    "            sentence = f'{subject} {verb} {object}'\n",
    "        sentences.append(sentence)\n",
    "print(sentences)\n",
    "            \n",
    "            "
   ]
  },
  {
   "cell_type": "code",
   "execution_count": 2,
   "id": "7f47eaf4-0296-4617-b06c-e64cf7ddbc13",
   "metadata": {},
   "outputs": [
    {
     "name": "stdout",
     "output_type": "stream",
     "text": [
      "b'x\\x9c\\xcbH\\xcd\\xc9\\xc9W(\\xcf/\\xcaIQ\\xcc \\x82\\r\\x00\\xbd[\\x11\\xf5'\n",
      "Original string: hello world!hello world!hello world!hello world!\n",
      "Decompressed string: hello world!hello world!hello world!hello world!\n"
     ]
    }
   ],
   "source": [
    "\"\"\"Question 5:\n",
    "Please write a program to compress and decompress the string &quot;hello world!hello\n",
    "world!hello world!hello world!&quot;. \"\"\"\n",
    "\n",
    "import zlib\n",
    "\n",
    "original_string = \"hello world!hello world!hello world!hello world!\"\n",
    "compressed_data = zlib.compress(original_string.encode())\n",
    "print(compressed_data)\n",
    "\n",
    "decompressed_data = zlib.decompress(compressed_data)\n",
    "decompressed_string = decompressed_data.decode()\n",
    "\n",
    "print(\"Original string:\", original_string)\n",
    "print(\"Decompressed string:\", decompressed_string)"
   ]
  },
  {
   "cell_type": "code",
   "execution_count": 23,
   "id": "7ff7dd08-03fe-4d38-94be-7f8fda10d8a3",
   "metadata": {},
   "outputs": [
    {
     "name": "stdin",
     "output_type": "stream",
     "text": [
      "Enter the element whose index is to be found:  8\n"
     ]
    },
    {
     "name": "stdout",
     "output_type": "stream",
     "text": [
      "Index of 8 is 7\n"
     ]
    }
   ],
   "source": [
    "\"\"\"Question 6:\n",
    "Please write a binary search function which searches an item in a sorted list. The\n",
    "function should return the index of element to be searched in the list. \"\"\"\n",
    "\n",
    "def binary_search(lst,n,k):\n",
    "    lst.sort()\n",
    "    for i in lst:\n",
    "        if i == k:\n",
    "            return lst.index(i)\n",
    "    \n",
    "    \n",
    "lst = [5,8,2,9,6,3,1,4,7]\n",
    "n=len(lst)\n",
    "k = int(input(\"Enter the element whose index is to be found: \"))\n",
    "print(f'Index of {k} is {binary_search(lst,n,k)}')"
   ]
  },
  {
   "cell_type": "code",
   "execution_count": null,
   "id": "1a68799a-406c-4fb5-8f97-31f5649aa938",
   "metadata": {},
   "outputs": [],
   "source": []
  }
 ],
 "metadata": {
  "kernelspec": {
   "display_name": "Python 3 (ipykernel)",
   "language": "python",
   "name": "python3"
  },
  "language_info": {
   "codemirror_mode": {
    "name": "ipython",
    "version": 3
   },
   "file_extension": ".py",
   "mimetype": "text/x-python",
   "name": "python",
   "nbconvert_exporter": "python",
   "pygments_lexer": "ipython3",
   "version": "3.10.6"
  }
 },
 "nbformat": 4,
 "nbformat_minor": 5
}
