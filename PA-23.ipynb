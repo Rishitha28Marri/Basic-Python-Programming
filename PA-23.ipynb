{
 "cells": [
  {
   "cell_type": "code",
   "execution_count": 28,
   "id": "37063896-aede-44e2-85d1-369237a3ee28",
   "metadata": {},
   "outputs": [
    {
     "name": "stdout",
     "output_type": "stream",
     "text": [
      "False\n"
     ]
    }
   ],
   "source": [
    "\"\"\"Question 1\n",
    "Create a function that takes a number as an argument and returns True or False depending\n",
    "on whether the number is symmetrical or not. A number is symmetrical when it is the same as\n",
    "its reverse.\n",
    "Examples\n",
    "is_symmetrical(7227) ➞ True\n",
    "is_symmetrical(12567) ➞ False\n",
    "is_symmetrical(44444444) ➞ True\n",
    "is_symmetrical(9939) ➞ False\n",
    "is_symmetrical(1112111) ➞ True \"\"\"\n",
    "\n",
    "def is_symmetrical(num):\n",
    "    str_num = str(num)\n",
    "    rev_str = str_num[::-1]\n",
    "    if str_num == rev_str:\n",
    "        return True\n",
    "    else:\n",
    "        return False\n",
    "    \n",
    "print(is_symmetrical(725127))"
   ]
  },
  {
   "cell_type": "code",
   "execution_count": 23,
   "id": "7cb477a8-2429-4cd6-9f6a-af4f859da646",
   "metadata": {},
   "outputs": [
    {
     "name": "stdin",
     "output_type": "stream",
     "text": [
      "Enter a number:  2,1,3,4\n"
     ]
    },
    {
     "name": "stdout",
     "output_type": "stream",
     "text": [
      "Multiplication of numbers 2,1,3,4 is 24\n"
     ]
    }
   ],
   "source": [
    "\"\"\"Question 2\n",
    "Given a string of numbers separated by a comma and space, return the product of the\n",
    "numbers.\n",
    "Examples\n",
    "multiply_nums(&quot;2, 3&quot;) ➞ 6\n",
    "multiply_nums(&quot;1, 2, 3, 4&quot;) ➞ 24\n",
    "multiply_nums(&quot;54, 75, 453, 0&quot;) ➞ 0\n",
    "multiply_nums(&quot;10, -2&quot;) ➞ -20 \"\"\"\n",
    "\n",
    "def multiply_nums(*args):\n",
    "    n=num.split(',')\n",
    "    prod = 1\n",
    "    for i in n:\n",
    "        prod*= int(i)\n",
    "    return prod\n",
    "num=input(\"Enter a number: \")\n",
    "print(f\"Multiplication of numbers {num} is {multiply_nums(3,2)}\")"
   ]
  },
  {
   "cell_type": "code",
   "execution_count": 5,
   "id": "9c03b3ea-cae4-4d9b-8986-214584c48068",
   "metadata": {},
   "outputs": [
    {
     "name": "stdin",
     "output_type": "stream",
     "text": [
      "Enter a number:  9119\n"
     ]
    },
    {
     "name": "stdout",
     "output_type": "stream",
     "text": [
      "Square of a 9119 is 811181\n"
     ]
    }
   ],
   "source": [
    "\"\"\"Question 3\n",
    "Create a function that squares every digit of a number.\n",
    "Examples\n",
    "square_digits(9119) ➞ 811181\n",
    "square_digits(2483) ➞ 416649\n",
    "square_digits(3212) ➞ 9414\n",
    "Notes\n",
    "The function receives an integer and must return an integer. \"\"\"\n",
    "\n",
    "def square_digits(num):\n",
    "    str_num = str(num)\n",
    "    result = \"\"\n",
    "    for digit in str_num:\n",
    "        sqrd_dig = str(int(digit)**2)\n",
    "        result+= sqrd_dig\n",
    "        \n",
    "    return int(result)\n",
    "\n",
    "num=int(input(\"Enter a number: \"))\n",
    "print(f'Square of a {num} is {square_digits(num)}')\n",
    "    \n",
    "    "
   ]
  },
  {
   "cell_type": "code",
   "execution_count": 8,
   "id": "2849ddaa-d50a-4601-8e59-0a16daeaa6fd",
   "metadata": {},
   "outputs": [
    {
     "name": "stdout",
     "output_type": "stream",
     "text": [
      "[4, 4, 4, 4] after removing duplicate items is [4]\n"
     ]
    }
   ],
   "source": [
    "\"\"\"Question 4\n",
    "Create a function that sorts a list and removes all duplicate items from it.\n",
    "Examples\n",
    "setify([1, 3, 3, 5, 5]) ➞ [1, 3, 5]\n",
    "setify([4, 4, 4, 4]) ➞ [4]\n",
    "setify([5, 7, 8, 9, 10, 15]) ➞ [5, 7, 8, 9, 10, 15]\n",
    "setify([3, 3, 3, 2, 1]) ➞ [1, 2, 3]\n",
    " \"\"\"\n",
    "\n",
    "def setify(arr):\n",
    "    ar=[]\n",
    "    for i in arr:\n",
    "        if i not in ar:\n",
    "            ar.append(i)\n",
    "    return ar\n",
    "arr=[4, 4, 4, 4]\n",
    "print(f'{arr} after removing duplicate items is {setify(arr)}')"
   ]
  },
  {
   "cell_type": "code",
   "execution_count": 16,
   "id": "0f2d10da-ad1f-44d3-956c-6b2f422b9c8a",
   "metadata": {},
   "outputs": [
    {
     "name": "stdin",
     "output_type": "stream",
     "text": [
      "Enter a number:  12345\n"
     ]
    },
    {
     "name": "stdout",
     "output_type": "stream",
     "text": [
      "Mean is 3\n"
     ]
    }
   ],
   "source": [
    "\"\"\"Question 5\n",
    "Create a function that returns the mean of all digits.\n",
    "Examples\n",
    "mean(42) ➞ 3\n",
    "mean(12345) ➞ 3\n",
    "mean(666) ➞ 6\n",
    "Notes\n",
    " The mean of all digits is the sum of digits / how many digits there are (e.g. mean of digits in\n",
    "512 is (5+1+2)/3(number of digits) = 8/3=2).\n",
    " The mean will always be an integer. \"\"\"\n",
    "\n",
    "def mean(n):\n",
    "    digits = [int(d) for d in str(n)]\n",
    "    return sum(digits)//len(digits)\n",
    "    \n",
    "    \n",
    "n=int(input(\"Enter a number: \"))\n",
    "print(\"Mean is\",mean(n))"
   ]
  },
  {
   "cell_type": "code",
   "execution_count": null,
   "id": "4d8f4ae6-20eb-4eb6-a3e5-9d22bf28a010",
   "metadata": {},
   "outputs": [],
   "source": []
  }
 ],
 "metadata": {
  "kernelspec": {
   "display_name": "Python 3 (ipykernel)",
   "language": "python",
   "name": "python3"
  },
  "language_info": {
   "codemirror_mode": {
    "name": "ipython",
    "version": 3
   },
   "file_extension": ".py",
   "mimetype": "text/x-python",
   "name": "python",
   "nbconvert_exporter": "python",
   "pygments_lexer": "ipython3",
   "version": "3.10.6"
  }
 },
 "nbformat": 4,
 "nbformat_minor": 5
}
