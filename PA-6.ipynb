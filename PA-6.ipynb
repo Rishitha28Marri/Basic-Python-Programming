{
 "cells": [
  {
   "cell_type": "code",
   "execution_count": 9,
   "id": "6ec04bd6-94b5-4cf5-bda2-d66d89f9746f",
   "metadata": {},
   "outputs": [
    {
     "name": "stdin",
     "output_type": "stream",
     "text": [
      "Enter a number:  12\n"
     ]
    },
    {
     "name": "stdout",
     "output_type": "stream",
     "text": [
      "Fibonacci Sequence: \n",
      "0 1 1 2 3 5 8 13 21 34 55 89 "
     ]
    }
   ],
   "source": [
    "#1. Write a Python Program to Display Fibonacci Sequence Using Recursion?\n",
    "\n",
    "def fibo(n):\n",
    "    if n<0:\n",
    "        print(\"Enter a positive number\")\n",
    "    elif n==0:\n",
    "        return 0\n",
    "    elif n==1 or n==2:\n",
    "        return 1\n",
    "    else:\n",
    "        return fibo(n-1) + fibo(n-2)\n",
    "n=int(input(\"Enter a number: \"))\n",
    "print(\"Fibonacci Sequence: \")\n",
    "for i in range(n):\n",
    "    print(fibo(i), end = ' ')\n"
   ]
  },
  {
   "cell_type": "code",
   "execution_count": 14,
   "id": "99e16aee-2f35-4a6f-bc08-b3873de233a4",
   "metadata": {},
   "outputs": [
    {
     "name": "stdin",
     "output_type": "stream",
     "text": [
      "Enter a number:  5\n"
     ]
    },
    {
     "name": "stdout",
     "output_type": "stream",
     "text": [
      "Factorial of 5 is 120\n"
     ]
    }
   ],
   "source": [
    "#2. Write a Python Program to Find Factorial of Number Using Recursion?\n",
    "\n",
    "def factorial(n):\n",
    "    if n == 1 or n == 0:\n",
    "        return 1\n",
    "    else:\n",
    "        return n*factorial(n-1)\n",
    "n=int(input(\"Enter a number: \"))\n",
    "#res = factorial(n)\n",
    "print(f'Factorial of {n} is {factorial(n)}')"
   ]
  },
  {
   "cell_type": "code",
   "execution_count": 30,
   "id": "e6d6048e-ea52-4a4b-938d-47f2efc36727",
   "metadata": {},
   "outputs": [
    {
     "name": "stdin",
     "output_type": "stream",
     "text": [
      "Enter weight:  70\n",
      "Enter height:  1.798\n"
     ]
    },
    {
     "name": "stdout",
     "output_type": "stream",
     "text": [
      "Body Mass Index is 21.65302938254221\n"
     ]
    }
   ],
   "source": [
    "#3. Write a Python Program to calculate your Body Mass Index?\n",
    "\n",
    "def BMI(weight,height):\n",
    "    massindex = int(weight)/(float(height)**(2))\n",
    "    return massindex\n",
    "    \n",
    "weight=input(\"Enter weight: \")\n",
    "height=input(\"Enter height: \")\n",
    "print(\"Body Mass Index is\",BMI(weight,height) ) "
   ]
  },
  {
   "cell_type": "code",
   "execution_count": 36,
   "id": "27e00c0e-af6c-4c99-a0aa-1634e618d105",
   "metadata": {},
   "outputs": [
    {
     "name": "stdin",
     "output_type": "stream",
     "text": [
      "Enter a number:  2\n"
     ]
    },
    {
     "name": "stdout",
     "output_type": "stream",
     "text": [
      "Logarithm of a 2 is 0.6931471805599453\n"
     ]
    }
   ],
   "source": [
    "#4. Write a Python Program to calculate the natural logarithm of any number?\n",
    "\n",
    "import math\n",
    "n=input(\"Enter a number: \")\n",
    "print(f\"Logarithm of a {n} is {math.log(int(n))}\")"
   ]
  },
  {
   "cell_type": "code",
   "execution_count": 39,
   "id": "324b7703-9388-4b11-a448-f70ff805afad",
   "metadata": {},
   "outputs": [
    {
     "name": "stdin",
     "output_type": "stream",
     "text": [
      "Enter a number:  5\n"
     ]
    },
    {
     "name": "stdout",
     "output_type": "stream",
     "text": [
      "Cube sum of first 5 natural numbers is 225\n"
     ]
    }
   ],
   "source": [
    "#5. Write a Python Program for cube sum of first n natural numbers?\n",
    "num=int(input(\"Enter a number: \"))\n",
    "sum = 0\n",
    "for i in range(1,num+1):\n",
    "    sum+= i**3\n",
    "print(f\"Cube sum of first {num} natural numbers is {sum}\")"
   ]
  }
 ],
 "metadata": {
  "kernelspec": {
   "display_name": "Python 3 (ipykernel)",
   "language": "python",
   "name": "python3"
  },
  "language_info": {
   "codemirror_mode": {
    "name": "ipython",
    "version": 3
   },
   "file_extension": ".py",
   "mimetype": "text/x-python",
   "name": "python",
   "nbconvert_exporter": "python",
   "pygments_lexer": "ipython3",
   "version": "3.10.6"
  }
 },
 "nbformat": 4,
 "nbformat_minor": 5
}
