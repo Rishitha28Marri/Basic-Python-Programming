{
 "cells": [
  {
   "cell_type": "code",
   "execution_count": 1,
   "id": "10081033-a826-4633-852f-bfa2b7f9b7b0",
   "metadata": {},
   "outputs": [
    {
     "name": "stdin",
     "output_type": "stream",
     "text": [
      "Enter a number:  10\n"
     ]
    },
    {
     "name": "stdout",
     "output_type": "stream",
     "text": [
      "Factorial of 10 is 3628800\n"
     ]
    }
   ],
   "source": [
    "# 1. Write a Python Program to Find the Factorial of a Number?\n",
    "num = int(input(\"Enter a number: \"))\n",
    "fact = 1\n",
    "if num<0:\n",
    "    print(\" Factorial of negative number does not exist\")\n",
    "elif num==0:\n",
    "    print(\" The factorial of 0 is 1\")\n",
    "else:\n",
    "    for i in range(1,num+1):\n",
    "        fact=fact*i\n",
    "print(f'Factorial of {num} is {fact}')\n",
    "    "
   ]
  },
  {
   "cell_type": "code",
   "execution_count": 12,
   "id": "c83e1221-f2bd-4ec6-9f05-b2848617cc96",
   "metadata": {},
   "outputs": [
    {
     "name": "stdin",
     "output_type": "stream",
     "text": [
      "Enter a number:  2\n"
     ]
    },
    {
     "name": "stdout",
     "output_type": "stream",
     "text": [
      "Multiplication table of 2 is\n",
      "2 * 1 = 2\n",
      "2 * 2 = 4\n",
      "2 * 3 = 6\n",
      "2 * 4 = 8\n",
      "2 * 5 = 10\n",
      "2 * 6 = 12\n",
      "2 * 7 = 14\n",
      "2 * 8 = 16\n",
      "2 * 9 = 18\n",
      "2 * 10 = 20\n"
     ]
    }
   ],
   "source": [
    "#2. Write a Python Program to Display the multiplication Table\n",
    "num = int(input(\"Enter a number: \"))\n",
    "print(f'Multiplication table of {num} is')\n",
    "for value in range(1,11):\n",
    "    print(num,\"*\",value,'=',num*value)\n",
    "    \n"
   ]
  },
  {
   "cell_type": "code",
   "execution_count": 19,
   "id": "f15c505d-aa01-4f10-a06b-d6f25dc6991d",
   "metadata": {},
   "outputs": [
    {
     "name": "stdin",
     "output_type": "stream",
     "text": [
      "Enter a number:  10\n"
     ]
    },
    {
     "name": "stdout",
     "output_type": "stream",
     "text": [
      "Fibonacci sequence: 0 1 1 2 3 5 8 13 21 34 55 "
     ]
    }
   ],
   "source": [
    "#3. Write a Python Program to Print the Fibonacci sequence?\n",
    "num = int(input(\"Enter a number: \"))\n",
    "f1,f2=0,1\n",
    "print(\"Fibonacci sequence:\",f1,f2,end=' ')\n",
    "for i in range(2,num+1):\n",
    "    f3 = f2+f1\n",
    "    f1=f2\n",
    "    f2=f3\n",
    "    print(f3,end=' ')\n",
    "    \n",
    "\n",
    "\n",
    "    "
   ]
  },
  {
   "cell_type": "code",
   "execution_count": 2,
   "id": "8229bebf-d501-42f9-9070-71a9bf777817",
   "metadata": {},
   "outputs": [
    {
     "name": "stdin",
     "output_type": "stream",
     "text": [
      "Enter a number:  153\n"
     ]
    },
    {
     "name": "stdout",
     "output_type": "stream",
     "text": [
      "153 is Armstrong\n"
     ]
    }
   ],
   "source": [
    "#4. Write a Python Program to Check Armstrong Number?\n",
    "num = int(input(\"Enter a number: \"))\n",
    "p = num\n",
    "s = 0\n",
    "n = len(str(num))\n",
    "while p > 0:\n",
    "    temp=p%10\n",
    "    s+= temp**n\n",
    "    p=p//10\n",
    "if num==s:\n",
    "    print(f'{num} is Armstrong')\n",
    "else:\n",
    "    print(f'{num} is not Armstrong')\n",
    "    \n",
    "\n",
    "    \n"
   ]
  },
  {
   "cell_type": "code",
   "execution_count": 7,
   "id": "e6934a71-db98-469c-bca6-2af8c9fdab77",
   "metadata": {},
   "outputs": [
    {
     "name": "stdin",
     "output_type": "stream",
     "text": [
      "Enter start number:  100\n",
      "Enter end number:  500\n"
     ]
    },
    {
     "name": "stdout",
     "output_type": "stream",
     "text": [
      "125 is Armstrong\n",
      "153 is Armstrong\n",
      "216 is Armstrong\n",
      "370 is Armstrong\n",
      "371 is Armstrong\n",
      "407 is Armstrong\n"
     ]
    }
   ],
   "source": [
    "#5. Write a Python Program to Find Armstrong Number in an Interval?\n",
    "start = int(input(\"Enter start number: \"))\n",
    "end = int(input(\"Enter end number: \"))\n",
    "for i in range(start,end+1):\n",
    "    n = len(str(i))\n",
    "    s = 0\n",
    "    p = i\n",
    "    while p > 0:\n",
    "        temp=p%10\n",
    "        s+= temp**n\n",
    "        p=p//10\n",
    "        if i==s:\n",
    "            print(f'{i} is Armstrong')\n",
    "        \n",
    "    \n",
    "    \n"
   ]
  },
  {
   "cell_type": "code",
   "execution_count": 5,
   "id": "ee52d2c3-7dc0-4a45-89d4-87be5d32763f",
   "metadata": {},
   "outputs": [
    {
     "name": "stdin",
     "output_type": "stream",
     "text": [
      "Enter a number:  100\n"
     ]
    },
    {
     "name": "stdout",
     "output_type": "stream",
     "text": [
      "Sum of natural numbers is 5050\n"
     ]
    }
   ],
   "source": [
    "#6. Write a Python Program to Find the Sum of Natural Numbers?\n",
    "num = int(input(\"Enter a number: \"))\n",
    "sum=0\n",
    "for i in range(1,num+1):\n",
    "    sum+= i\n",
    "print(f'Sum of natural numbers is {sum}')"
   ]
  }
 ],
 "metadata": {
  "kernelspec": {
   "display_name": "Python 3 (ipykernel)",
   "language": "python",
   "name": "python3"
  },
  "language_info": {
   "codemirror_mode": {
    "name": "ipython",
    "version": 3
   },
   "file_extension": ".py",
   "mimetype": "text/x-python",
   "name": "python",
   "nbconvert_exporter": "python",
   "pygments_lexer": "ipython3",
   "version": "3.10.6"
  }
 },
 "nbformat": 4,
 "nbformat_minor": 5
}
