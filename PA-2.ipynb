{
 "cells": [
  {
   "cell_type": "code",
   "execution_count": 4,
   "id": "7a1ea1a0-7547-4431-8d5f-bbb80679fe5d",
   "metadata": {},
   "outputs": [
    {
     "name": "stdin",
     "output_type": "stream",
     "text": [
      "Enter distance in kilometers:  1\n"
     ]
    },
    {
     "name": "stdout",
     "output_type": "stream",
     "text": [
      "Distance in miles is 0.6214\n"
     ]
    }
   ],
   "source": [
    "#Write a Python program to convert kilometers to miles?\n",
    "kl=float(input(\"Enter distance in kilometers: \"))\n",
    "mil=0.6214*kl\n",
    "print(f\"Distance in miles is {mil}\")\n"
   ]
  },
  {
   "cell_type": "code",
   "execution_count": 4,
   "id": "76e40efa-e68c-4915-8540-d6c769167608",
   "metadata": {},
   "outputs": [
    {
     "name": "stdin",
     "output_type": "stream",
     "text": [
      "Enter temperature in celsius:  34\n"
     ]
    },
    {
     "name": "stdout",
     "output_type": "stream",
     "text": [
      "Temperature in fahrenheit is 93.2\n"
     ]
    }
   ],
   "source": [
    "#Write a Python program to convert Celsius to Fahrenheit?\n",
    "cel=float(input(\"Enter temperature in celsius: \"))\n",
    "fah=(1.8*cel)+32\n",
    "print(f\"Temperature in fahrenheit is {fah}\")"
   ]
  },
  {
   "cell_type": "code",
   "execution_count": 4,
   "id": "5e19b16e-39b6-4be5-880a-04e8f1f397e7",
   "metadata": {},
   "outputs": [
    {
     "name": "stdin",
     "output_type": "stream",
     "text": [
      "Enter year:  2002\n",
      "Enter month:  1\n"
     ]
    },
    {
     "name": "stdout",
     "output_type": "stream",
     "text": [
      "    January 2002\n",
      "Mo Tu We Th Fr Sa Su\n",
      "    1  2  3  4  5  6\n",
      " 7  8  9 10 11 12 13\n",
      "14 15 16 17 18 19 20\n",
      "21 22 23 24 25 26 27\n",
      "28 29 30 31\n",
      "\n"
     ]
    }
   ],
   "source": [
    "#Write a Python program to display calendar?\n",
    "import calendar\n",
    "yy=int(input(\"Enter year: \"))\n",
    "mm=int(input(\"Enter month: \"))\n",
    "print(calendar.month(yy, mm))"
   ]
  },
  {
   "cell_type": "code",
   "execution_count": 6,
   "id": "170699ed-68ce-412a-b4aa-47d600937822",
   "metadata": {},
   "outputs": [
    {
     "name": "stdin",
     "output_type": "stream",
     "text": [
      "Enter first number:  1\n",
      "Enter second number:  5\n",
      "Enter third number:  6\n"
     ]
    },
    {
     "name": "stdout",
     "output_type": "stream",
     "text": [
      "Roots of quadratic equation are -2.0 and -3.0\n"
     ]
    }
   ],
   "source": [
    "#Write a Python program to solve quadratic equation?\n",
    "\n",
    "#formula = (-b(+/-)*(b**2-4*a*c)**(1/2))/2*a\n",
    "a=int(input(\"Enter first number: \"))\n",
    "b=int(input(\"Enter second number: \"))\n",
    "c=int(input(\"Enter third number: \"))\n",
    "\n",
    "d = (b**2)-(4*a*c)\n",
    "\n",
    "sol1 = ((-b) + (d)**0.5)/2*a\n",
    "sol2 = ((-b) - (d)**0.5)/2*a\n",
    "\n",
    "print(f'Roots of quadratic equation are {sol1} and {sol2}')\n",
    "\n"
   ]
  },
  {
   "cell_type": "code",
   "execution_count": null,
   "id": "2d8f94be-e3fa-492f-be1a-a4c8a84805a2",
   "metadata": {},
   "outputs": [],
   "source": [
    "#Write a Python program to swap two variables without temp variable?\n",
    "num1=int(input(\"Enter first number: \"))\n",
    "num2=int(input(\"Enter second number: \"))\n",
    "print(f'Numbers before swapping are num1:{num1} and num2:{num2}')\n",
    "num1=num2+num1\n",
    "num2=num1-num2\n",
    "num1=num1-num2\n",
    "print(f'Numbers  swapping are num1:{num1} and num2:{num2}')"
   ]
  }
 ],
 "metadata": {
  "kernelspec": {
   "display_name": "Python 3 (ipykernel)",
   "language": "python",
   "name": "python3"
  },
  "language_info": {
   "codemirror_mode": {
    "name": "ipython",
    "version": 3
   },
   "file_extension": ".py",
   "mimetype": "text/x-python",
   "name": "python",
   "nbconvert_exporter": "python",
   "pygments_lexer": "ipython3",
   "version": "3.10.6"
  }
 },
 "nbformat": 4,
 "nbformat_minor": 5
}
