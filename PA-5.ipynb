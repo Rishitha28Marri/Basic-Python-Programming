{
 "cells": [
  {
   "cell_type": "code",
   "execution_count": 7,
   "id": "6674a032-05a5-4c5f-822d-f48479c45262",
   "metadata": {},
   "outputs": [
    {
     "name": "stdin",
     "output_type": "stream",
     "text": [
      "Enter first number:  12\n",
      "Enter second number:  18\n"
     ]
    },
    {
     "name": "stdout",
     "output_type": "stream",
     "text": [
      "LCM of 12 and 18 is 36\n"
     ]
    }
   ],
   "source": [
    "#1. Write a Python Program to Find LCM?\n",
    "num1=int(input(\"Enter first number: \"))\n",
    "num2= int(input(\"Enter second number: \"))\n",
    "for i in range(max(num1,num2),1+(num1*num2)):\n",
    "    if (i%num1) == (i%num2)==0:\n",
    "        lcm = i\n",
    "        break\n",
    "print(f'LCM of {num1} and {num2} is {lcm}')\n",
    "    \n"
   ]
  },
  {
   "cell_type": "code",
   "execution_count": 10,
   "id": "4961e160-3c7a-46c9-8523-b2be5524400f",
   "metadata": {},
   "outputs": [
    {
     "name": "stdin",
     "output_type": "stream",
     "text": [
      "Enter first number:  18\n",
      "Enter second number:  24\n"
     ]
    },
    {
     "name": "stdout",
     "output_type": "stream",
     "text": [
      "HCM of 18 and 24 is 6\n"
     ]
    }
   ],
   "source": [
    "#2. Write a Python Program to Find HCF?\n",
    "num1=int(input(\"Enter first number: \"))\n",
    "num2= int(input(\"Enter second number: \"))\n",
    "for i in range(1,max(num1,num2)):\n",
    "    if (num1%i) == (num2%i) == 0:\n",
    "        hcm = i\n",
    "print(f'HCM of {num1} and {num2} is {hcm}')       \n"
   ]
  },
  {
   "cell_type": "code",
   "execution_count": 24,
   "id": "8c9745c7-295c-4bea-8b2f-cae072970de6",
   "metadata": {},
   "outputs": [
    {
     "name": "stdin",
     "output_type": "stream",
     "text": [
      "Enter a number in decimal:  12\n"
     ]
    },
    {
     "name": "stdout",
     "output_type": "stream",
     "text": [
      "Number in decimal is 12\n",
      "Number in decimal is 12 and in Binary is 0b1100\n",
      "Number in decimal is 12 and in Octal is 0o14\n",
      "Number in decimal is 12 and in Hexadecimal is 0xc\n"
     ]
    }
   ],
   "source": [
    "#3. Write a Python Program to Convert Decimal to Binary, Octal and Hexadecimal?\n",
    "num = int(input(\"Enter a number in decimal: \"))\n",
    "print(f'Number in decimal is {num}')\n",
    "print(f'Number in decimal is {num} and in Binary is {bin(num)}')\n",
    "print(f'Number in decimal is {num} and in Octal is {oct(num)}')\n",
    "print(f'Number in decimal is {num} and in Hexadecimal is {hex(num)}')\n"
   ]
  },
  {
   "cell_type": "code",
   "execution_count": 28,
   "id": "8d5da890-7d53-411b-9da7-f69402ce80dc",
   "metadata": {},
   "outputs": [
    {
     "name": "stdin",
     "output_type": "stream",
     "text": [
      "Enter a character:  A\n"
     ]
    },
    {
     "name": "stdout",
     "output_type": "stream",
     "text": [
      "ASCII value of a A is 65\n"
     ]
    }
   ],
   "source": [
    "#4. Write a Python Program To Find ASCII value of a character?\n",
    "letter = input(\"Enter a character: \")\n",
    "print(f'ASCII value of a {letter} is {ord(letter)}')\n"
   ]
  },
  {
   "cell_type": "code",
   "execution_count": 21,
   "id": "d80869c6-704d-40b2-abc6-8f78c7834b77",
   "metadata": {},
   "outputs": [
    {
     "name": "stdin",
     "output_type": "stream",
     "text": [
      "Enter first number:  8\n",
      "Enter second number:  2\n",
      "Enter opertation to be performed:  /\n"
     ]
    },
    {
     "name": "stdout",
     "output_type": "stream",
     "text": [
      "Division of 8 and 2 is 4.0\n"
     ]
    }
   ],
   "source": [
    "#5. Write a Python Program to Make a Simple Calculator with 4 basic mathematical operations?\n",
    "\n",
    "num1=int(input(\"Enter first number: \"))\n",
    "num2= int(input(\"Enter second number: \"))\n",
    "operation = input(\"Enter opertation to be performed: \")\n",
    "if operation == '+':\n",
    "    result = num1+num2\n",
    "    print(f'Addition of {num1} and {num2} is {result}')\n",
    "elif  operation == '-':\n",
    "    result = num1-num2\n",
    "    print(f'Subraction of {num1} and {num2} is {result}')\n",
    "elif  operation == '*':\n",
    "    result = num1*num2\n",
    "    print(f'Multiplication of {num1} and {num2} is {result}')\n",
    "else:\n",
    "    result = num1/num2\n",
    "    print(f'Division of {num1} and {num2} is {result}')"
   ]
  }
 ],
 "metadata": {
  "kernelspec": {
   "display_name": "Python 3 (ipykernel)",
   "language": "python",
   "name": "python3"
  },
  "language_info": {
   "codemirror_mode": {
    "name": "ipython",
    "version": 3
   },
   "file_extension": ".py",
   "mimetype": "text/x-python",
   "name": "python",
   "nbconvert_exporter": "python",
   "pygments_lexer": "ipython3",
   "version": "3.10.6"
  }
 },
 "nbformat": 4,
 "nbformat_minor": 5
}
